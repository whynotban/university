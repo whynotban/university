{
  "cells": [
    {
      "cell_type": "markdown",
      "metadata": {
        "id": "view-in-github",
        "colab_type": "text"
      },
      "source": [
        "<a href=\"https://colab.research.google.com/github/whynotban/university/blob/main/Extra_Tasks/%D0%94%D0%BE%D0%BF%D0%BE%D0%BB%D0%BD%D0%B8%D1%82%D0%B5%D0%BB%D1%8C%D0%BD%D0%BE%D0%B5_%D0%B7%D0%B0%D0%B4%D0%B0%D0%BD%D0%B8%D0%B5_%E2%84%963_%D0%9E%D0%B1%D1%80%D0%B0%D0%B1%D0%BE%D1%82%D0%BA%D0%B0_%D0%B8%D1%81%D0%BA%D0%BB%D1%8E%D1%87%D0%B5%D0%BD%D0%B8%D0%B9_%D0%B8_%D1%80%D0%B0%D0%B1%D0%BE%D1%82%D0%B0_%D1%81_%D1%82%D0%B5%D0%BA%D1%81%D1%82%D0%BE%D0%B2%D1%8B%D0%BC%D0%B8_%D1%84%D0%B0%D0%B9%D0%BB%D0%B0%D0%BC%D0%B8.ipynb\" target=\"_parent\"><img src=\"https://colab.research.google.com/assets/colab-badge.svg\" alt=\"Open In Colab\"/></a>"
      ]
    },
    {
      "cell_type": "markdown",
      "id": "bb332bf9",
      "metadata": {
        "id": "bb332bf9"
      },
      "source": [
        "# **Дополнительное задание №3. Обработка исключений и работа с текстовыми файлами**"
      ]
    },
    {
      "cell_type": "markdown",
      "id": "aa6808db",
      "metadata": {
        "id": "aa6808db"
      },
      "source": [
        "**БАЗА:**\n",
        "\n",
        "- **Обработка исключений** позволяет перехватывать и обрабатывать ошибки, возникающие при выполнении программы, предотвращая её аварийное завершение.\n",
        "- **Работа с файлами** - важный навык для чтения, записи и обработки текстовой информации в Python.\n",
        "\n",
        "---"
      ]
    },
    {
      "cell_type": "markdown",
      "id": "2478deca",
      "metadata": {
        "id": "2478deca"
      },
      "source": [
        "## **I. Обработка исключений**"
      ]
    },
    {
      "cell_type": "markdown",
      "id": "0ab0b851",
      "metadata": {
        "id": "0ab0b851"
      },
      "source": [
        "### **Пункт №1. Обработка некорректного индекса (IndexError)**"
      ]
    },
    {
      "cell_type": "markdown",
      "id": "46e69e1f",
      "metadata": {
        "id": "46e69e1f"
      },
      "source": [
        "Создайте список из нескольких элементов (например, [10, 20, 30]). Попросите пользователя ввести индекс элемента, который нужно вывести. Если пользователь введёт индекс, выходящий за границы списка, перехватите IndexError и сообщите об этом.\n",
        "\n",
        "**ОБЯЗАТЕЛЬНО:**\n",
        "- Создайте список из минимум 5 элементов\n",
        "- Покажите содержимое списка перед работой\n",
        "- Протестируйте минимум 4 случая (корректный индекс, отрицательный, слишком большой, нечисловое значение)"
      ]
    },
    {
      "cell_type": "code",
      "execution_count": null,
      "id": "724c5954",
      "metadata": {
        "id": "724c5954",
        "colab": {
          "base_uri": "https://localhost:8080/"
        },
        "outputId": "f608549a-15f7-469c-fb24-fb5a96d9086b"
      },
      "outputs": [
        {
          "output_type": "stream",
          "name": "stdout",
          "text": [
            "список: [10, 20, 30, 40, 50]\n",
            "ввод: 2\n",
            "элемент 2: 30\n",
            "ввод: -1\n",
            "элемент -1: 50\n",
            "ввод: 10\n",
            "ошибка - неверный индекс\n",
            "ввод: текст\n",
            "ошибка - это не число\n"
          ]
        }
      ],
      "source": [
        "my_list = [10, 20, 30, 40, 50]\n",
        "print(f\"список: {my_list}\")\n",
        "test_values = ['2', '-1', '10', 'текст']\n",
        "\n",
        "for value in test_values:\n",
        "    print(f\"ввод: {value}\")\n",
        "    try:\n",
        "        index = int(value)\n",
        "        element = my_list[index]\n",
        "        print(f\"элемент {index}: {element}\")\n",
        "    except IndexError:\n",
        "        print(\"ошибка - неверный индекс\")\n",
        "    except ValueError:\n",
        "        print(\"ошибка - это не число\")"
      ]
    },
    {
      "cell_type": "markdown",
      "id": "7ac84eec",
      "metadata": {
        "id": "7ac84eec"
      },
      "source": [
        "---"
      ]
    },
    {
      "cell_type": "markdown",
      "id": "f8bfb6e1",
      "metadata": {
        "id": "f8bfb6e1"
      },
      "source": [
        "### **Пункт №2. Обработка исключений в цикле**"
      ]
    },
    {
      "cell_type": "markdown",
      "id": "63c3b706",
      "metadata": {
        "id": "63c3b706"
      },
      "source": [
        "Напишите программу, которая запрашивает у пользователя числа и добавляет их в список.\n",
        "- Если пользователь вводит некорректные данные, программа должна выводить сообщение об ошибке и продолжать работу.\n",
        "- Для выхода из программы пользователь должен ввести \"стоп\".\n",
        "\n",
        "**ОБЯЗАТЕЛЬНО:**\n",
        "- Покажите процесс ввода минимум 7 значений (включая ошибочные)\n",
        "- Выведите финальный список и статистику (сколько чисел введено успешно, сколько ошибок)"
      ]
    },
    {
      "cell_type": "markdown",
      "source": [
        "\n",
        "\n",
        "```\n",
        "# Пример:\n",
        "# Введите число: 10\n",
        "# Введите число: текст (Ошибка: это не число)\n",
        "# Введите число: стоп\n",
        "# Итоговый список: [10]\n",
        "```\n",
        "\n"
      ],
      "metadata": {
        "id": "aiWaEPOuoHDS"
      },
      "id": "aiWaEPOuoHDS"
    },
    {
      "cell_type": "code",
      "execution_count": null,
      "id": "31448e09",
      "metadata": {
        "id": "31448e09",
        "colab": {
          "base_uri": "https://localhost:8080/"
        },
        "outputId": "f4d5be0e-0346-4a05-b390-7047bbb815a5"
      },
      "outputs": [
        {
          "output_type": "stream",
          "name": "stdout",
          "text": [
            "вводите числа, для выхода - стоп\n",
            "введите число: 10\n",
            "введите число: текст\n",
            "ошибка: это не число\n",
            "введите число: стоп\n",
            "итоговый список: [10]\n",
            "успешно: 1, ошибок: 1\n"
          ]
        }
      ],
      "source": [
        "numbers = []\n",
        "ok_count = 0\n",
        "err_count = 0\n",
        "print(\"вводите числа, для выхода - стоп\")\n",
        "\n",
        "while ok_count + err_count < 7:\n",
        "    user_input = input(\"введите число: \")\n",
        "    if user_input.lower() == 'стоп':\n",
        "        break\n",
        "    try:\n",
        "        num = int(user_input)\n",
        "        numbers.append(num)\n",
        "        ok_count += 1\n",
        "    except ValueError:\n",
        "        print(f\"ошибка: это не число\")\n",
        "        err_count += 1\n",
        "\n",
        "print(f\"итоговый список: {numbers}\")\n",
        "print(f\"успешно: {ok_count}, ошибок: {err_count}\")"
      ]
    },
    {
      "cell_type": "markdown",
      "metadata": {
        "id": "Yv-FNYTEp0vV"
      },
      "source": [
        "---"
      ],
      "id": "Yv-FNYTEp0vV"
    },
    {
      "cell_type": "markdown",
      "id": "5971f85d",
      "metadata": {
        "id": "5971f85d"
      },
      "source": [
        "### **Пункт №3**"
      ]
    },
    {
      "cell_type": "markdown",
      "id": "b1457074",
      "metadata": {
        "id": "b1457074"
      },
      "source": [
        "Создайте функцию `get_list_element(lst, index)`, которая безопасно извлекает элемент списка по индексу с использованием блоков `try`, `except`, `else` и `finally`.\n",
        "\n",
        "Функция должна:\n",
        "- Обрабатывать выход за пределы списка\n",
        "- Обрабатывать некорректный тип индекса\n",
        "- Выводить сообщение о попытке доступа в блоке `finally`\n",
        "\n",
        "**ОБЯЗАТЕЛЬНО:**\n",
        "- Выведите результаты для минимум 4 различных случаев (успешный доступ, выход за границы, отрицательный индекс, нечисловой индекс)\n",
        "- Покажите, что блок `finally` выполняется всегда\n",
        "\n",
        "```python\n",
        "# Пример использования:\n",
        "my_list = [1, 2, 3, 4, 5]\n",
        "get_list_element(my_list, 2)   # Вывод: \"Элемент: 3\", \"Попытка доступа завершена\"\n",
        "get_list_element(my_list, 10)  # Вывод: \"Индекс вне диапазона\", \"Попытка доступа завершена\"\n",
        "```"
      ]
    },
    {
      "cell_type": "code",
      "execution_count": null,
      "id": "1c067cf3",
      "metadata": {
        "id": "1c067cf3",
        "colab": {
          "base_uri": "https://localhost:8080/"
        },
        "outputId": "b05acbfd-21e7-4095-ed32-cadcdc48a9bc"
      },
      "outputs": [
        {
          "output_type": "stream",
          "name": "stdout",
          "text": [
            "список: [1, 2, 3, 4, 5]\n",
            "проверка элемента 2\n",
            "элемент 2: 3\n",
            "Попытка доступа завершена\n",
            "проверка элемента 10\n",
            "ошибка: индекс вне диапазона\n",
            "Попытка доступа завершена\n",
            "проверка элемента -1\n",
            "элемент -1: 5\n",
            "Попытка доступа завершена\n",
            "проверка элемента a\n",
            "ошибка: индекс не число\n",
            "Попытка доступа завершена\n"
          ]
        }
      ],
      "source": [
        "def get_list_element(lst, index):\n",
        "    print(f\"проверка элемента {index}\")\n",
        "    try:\n",
        "        element = lst[index]\n",
        "    except IndexError:\n",
        "        print(\"ошибка: индекс вне диапазона\")\n",
        "    except TypeError:\n",
        "        print(\"ошибка: индекс не число\")\n",
        "    else:\n",
        "        print(f\"элемент {index}: {element}\")\n",
        "    finally:\n",
        "        print(\"Попытка доступа завершена\")\n",
        "\n",
        "my_list = [1, 2, 3, 4, 5]\n",
        "print(f\"список: {my_list}\")\n",
        "\n",
        "get_list_element(my_list, 2)\n",
        "get_list_element(my_list, 10)\n",
        "get_list_element(my_list, -1)\n",
        "get_list_element(my_list, 'a')"
      ]
    },
    {
      "cell_type": "markdown",
      "id": "b5bb39c7",
      "metadata": {
        "id": "b5bb39c7"
      },
      "source": [
        "---"
      ]
    },
    {
      "cell_type": "markdown",
      "id": "b0972d59",
      "metadata": {
        "id": "b0972d59"
      },
      "source": [
        "## **II. Работа с текстовыми файлами**"
      ]
    },
    {
      "cell_type": "markdown",
      "id": "35729435",
      "metadata": {
        "id": "35729435"
      },
      "source": [
        "### **Пункт №1. Запись в файл**"
      ]
    },
    {
      "cell_type": "markdown",
      "id": "3121365f",
      "metadata": {
        "id": "3121365f"
      },
      "source": [
        "Напишите программу, которая запрашивает у пользователя строку и записывает её в файл output.txt в режиме дозаписи.\n",
        "\n",
        "**ОБЯЗАТЕЛЬНО:**\n",
        "- Запросите у пользователя минимум 3 строки\n",
        "- Покажите содержимое файла после записи"
      ]
    },
    {
      "cell_type": "code",
      "execution_count": 8,
      "id": "cbce6c5f",
      "metadata": {
        "id": "cbce6c5f",
        "colab": {
          "base_uri": "https://localhost:8080/"
        },
        "outputId": "af9c82da-f03d-4f49-cd22-cb8b8f5f80b8"
      },
      "outputs": [
        {
          "output_type": "stream",
          "name": "stdout",
          "text": [
            "введите 3 строки для файла\n",
            "1: тест1\n",
            "2: тест2\n",
            "3: тест3\n",
            "запись готова\n",
            "содержимое файла output.txt:\n",
            "тест1\n",
            "тест2\n",
            "тест3\n",
            "\n"
          ]
        }
      ],
      "source": [
        "filename = 'output.txt'\n",
        "\n",
        "with open(filename, 'w', encoding='utf-8') as f:\n",
        "    print(\"введите 3 строки для файла\")\n",
        "    for i in range(3):\n",
        "        line = input(f\"{i + 1}: \")\n",
        "        f.write(line + '\\n')\n",
        "\n",
        "print(\"запись готова\")\n",
        "print(f\"содержимое файла {filename}:\")\n",
        "with open(filename, 'r', encoding='utf-8') as f:\n",
        "    print(f.read())"
      ]
    },
    {
      "cell_type": "markdown",
      "id": "361b3d2b",
      "metadata": {
        "id": "361b3d2b"
      },
      "source": [
        "---"
      ]
    },
    {
      "cell_type": "markdown",
      "id": "cce864b4",
      "metadata": {
        "id": "cce864b4"
      },
      "source": [
        "### **Пункт №2. Чтение из файла**"
      ]
    },
    {
      "cell_type": "markdown",
      "id": "4fc83b82",
      "metadata": {
        "id": "4fc83b82"
      },
      "source": [
        "Напишите программу, которая открывает файл output.txt и выводит его содержимое на экран.\n",
        "\n",
        "**ОБЯЗАТЕЛЬНО:**\n",
        "- Создайте файл с минимум 5 строками текста\n",
        "- Покажите содержимое файла целиком\n",
        "- Обработайте случай отсутствующего файла"
      ]
    },
    {
      "cell_type": "code",
      "execution_count": 11,
      "id": "df27a986",
      "metadata": {
        "id": "df27a986",
        "colab": {
          "base_uri": "https://localhost:8080/"
        },
        "outputId": "6d9dcd0d-a913-4e9f-a105-e1b7e3f5eef1"
      },
      "outputs": [
        {
          "output_type": "stream",
          "name": "stdout",
          "text": [
            "создан файл output.txt\n",
            "содержимое output.txt:\n",
            "первая строка.\n",
            "вторая строка.\n",
            "третья.\n",
            "четвертая.\n",
            "пятая строка.\n"
          ]
        }
      ],
      "source": [
        "filename = 'output.txt'\n",
        "file_content = \"первая строка.\\nвторая строка.\\nтретья.\\nчетвертая.\\nпятая строка.\"\n",
        "with open(filename, 'w', encoding='utf-8') as f:\n",
        "    f.write(file_content)\n",
        "\n",
        "print(f\"создан файл {filename}\")\n",
        "try:\n",
        "    with open(filename, 'r', encoding='utf-8') as f:\n",
        "        print(f\"содержимое {filename}:\")\n",
        "        print(f.read())\n",
        "except FileNotFoundError:\n",
        "    print(f\"ошибка: файл {filename} не найден\")"
      ]
    },
    {
      "cell_type": "markdown",
      "id": "2be296a2",
      "metadata": {
        "id": "2be296a2"
      },
      "source": [
        "---"
      ]
    },
    {
      "cell_type": "markdown",
      "id": "045696ba",
      "metadata": {
        "id": "045696ba"
      },
      "source": [
        "### **Пункт №3. Подсчет строк в файле**"
      ]
    },
    {
      "cell_type": "markdown",
      "id": "570ac3e9",
      "metadata": {
        "id": "570ac3e9"
      },
      "source": [
        "Напишите программу, которая открывает файл output.txt и подсчитывает количество строк в нём.\n",
        "\n",
        "**ОБЯЗАТЕЛЬНО:**\n",
        "- Создайте тестовый файл с известным количеством строк (минимум 10)\n",
        "- Покажите первые 3 строки файла\n",
        "- Выведите общее количество строк\n",
        "- Выведите количество непустых строк"
      ]
    },
    {
      "cell_type": "code",
      "execution_count": 10,
      "id": "84aa205a",
      "metadata": {
        "id": "84aa205a",
        "colab": {
          "base_uri": "https://localhost:8080/"
        },
        "outputId": "6fa3015e-c7a5-4bea-86dc-92aada0b655a"
      },
      "outputs": [
        {
          "output_type": "stream",
          "name": "stdout",
          "text": [
            "создан файл output.txt\n",
            "первые 3 строки:\n",
            "строка 1\n",
            "строка 2\n",
            "строка 3\n",
            "всего строк: 10\n",
            "непустых строк: 8\n"
          ]
        }
      ],
      "source": [
        "filename = 'output.txt'\n",
        "file_content = \"строка 1\\nстрока 2\\nстрока 3\\n\\nстрока 5\\nстрока 6\\n\\nстрока 8\\nстрока 9\\nстрока 10\"\n",
        "with open(filename, 'w', encoding='utf-8') as f:\n",
        "    f.write(file_content)\n",
        "\n",
        "print(f\"создан файл {filename}\")\n",
        "print(\"первые 3 строки:\")\n",
        "with open(filename, 'r', encoding='utf-8') as f:\n",
        "    for i in range(3):\n",
        "        print(f.readline().strip())\n",
        "\n",
        "total_lines = 0\n",
        "non_empty_lines = 0\n",
        "with open(filename, 'r', encoding='utf-8') as f:\n",
        "    lines = f.readlines()\n",
        "    total_lines = len(lines)\n",
        "    for line in lines:\n",
        "        if line.strip():\n",
        "            non_empty_lines += 1\n",
        "\n",
        "print(f\"всего строк: {total_lines}\")\n",
        "print(f\"непустых строк: {non_empty_lines}\")"
      ]
    },
    {
      "cell_type": "markdown",
      "id": "94c6dcb0",
      "metadata": {
        "id": "94c6dcb0"
      },
      "source": [
        "---"
      ]
    },
    {
      "cell_type": "markdown",
      "id": "56f2a74e",
      "metadata": {
        "id": "56f2a74e"
      },
      "source": [
        "### **Пункт №4. Копирование содержимого файла**"
      ]
    },
    {
      "cell_type": "markdown",
      "id": "ed736046",
      "metadata": {
        "id": "ed736046"
      },
      "source": [
        "Напишите программу, которая копирует содержимое файла input.txt в файл output.txt.\n",
        "\n",
        "**ОБЯЗАТЕЛЬНО:**\n",
        "- Создайте исходный файл с тестовым содержимым (минимум 5 строк)\n",
        "- Покажите содержимое исходного файла\n",
        "- Выполните копирование\n",
        "- Покажите содержимое скопированного файла\n",
        "- Обработайте случай отсутствия исходного файла"
      ]
    },
    {
      "cell_type": "code",
      "execution_count": 12,
      "id": "31bd8a06",
      "metadata": {
        "id": "31bd8a06",
        "colab": {
          "base_uri": "https://localhost:8080/"
        },
        "outputId": "6a18ff00-0ebb-48ca-c1d6-a2bd3cb28208"
      },
      "outputs": [
        {
          "output_type": "stream",
          "name": "stdout",
          "text": [
            "исходный файл input.txt:\n",
            "исходный файл.\n",
            "строка 2.\n",
            "строка 3.\n",
            "строка 4.\n",
            "строка 5.\n",
            "файл скопирован в output.txt\n",
            "скопированный файл output.txt:\n",
            "исходный файл.\n",
            "строка 2.\n",
            "строка 3.\n",
            "строка 4.\n",
            "строка 5.\n"
          ]
        }
      ],
      "source": [
        "input_filename = 'input.txt'\n",
        "output_filename = 'output.txt'\n",
        "\n",
        "input_content = \"исходный файл.\\nстрока 2.\\nстрока 3.\\nстрока 4.\\nстрока 5.\"\n",
        "with open(input_filename, 'w', encoding='utf-8') as f:\n",
        "    f.write(input_content)\n",
        "\n",
        "try:\n",
        "    print(f\"исходный файл {input_filename}:\")\n",
        "    with open(input_filename, 'r', encoding='utf-8') as f_in:\n",
        "        content = f_in.read()\n",
        "        print(content)\n",
        "\n",
        "    with open(output_filename, 'w', encoding='utf-8') as f_out:\n",
        "        f_out.write(content)\n",
        "    print(f\"файл скопирован в {output_filename}\")\n",
        "\n",
        "    print(f\"скопированный файл {output_filename}:\")\n",
        "    with open(output_filename, 'r', encoding='utf-8') as f:\n",
        "        print(f.read())\n",
        "\n",
        "except FileNotFoundError:\n",
        "    print(f\"ошибка: файл {input_filename} не найден\")"
      ]
    },
    {
      "cell_type": "markdown",
      "id": "2f7c8ee5",
      "metadata": {
        "id": "2f7c8ee5"
      },
      "source": [
        "---"
      ]
    },
    {
      "cell_type": "markdown",
      "id": "70ee398b",
      "metadata": {
        "id": "70ee398b"
      },
      "source": [
        "### **Пункт №5. Поиск слова в файле**"
      ]
    },
    {
      "cell_type": "markdown",
      "id": "c67f8987",
      "metadata": {
        "id": "c67f8987"
      },
      "source": [
        "Напишите программу, которая открывает файл output.txt и проверяет, содержится ли в нём слово, введённое пользователем.\n",
        "\n",
        "**ОБЯЗАТЕЛЬНО:**\n",
        "- Создайте файл с минимум 10 строками текста\n",
        "- Покажите содержимое файла\n",
        "- Протестируйте поиск минимум 5 различных слов\n",
        "- Выведите номера строк, где найдено слово\n",
        "- Покажите количество вхождений слова"
      ]
    },
    {
      "cell_type": "code",
      "execution_count": 14,
      "id": "d961bbf3",
      "metadata": {
        "id": "d961bbf3",
        "colab": {
          "base_uri": "https://localhost:8080/"
        },
        "outputId": "27eadaea-7b4d-41fc-92d3-745edd5fdb33"
      },
      "outputs": [
        {
          "output_type": "stream",
          "name": "stdout",
          "text": [
            "содержимое файла:\n",
            "1\n",
            "sddf2\n",
            "3\n",
            "djjf4\n",
            "iii5\n",
            "1\n",
            "nn2\n",
            "9\n",
            "jfjfj1\n",
            "ifif7\n",
            "ищем слово 1:\n",
            "найдено в строках: [1, 6, 9], всего: 3\n",
            "ищем слово 2:\n",
            "найдено в строках: [2, 7], всего: 2\n",
            "ищем слово 3:\n",
            "найдено в строках: [3], всего: 1\n",
            "ищем слово 4:\n",
            "найдено в строках: [4], всего: 1\n",
            "ищем слово 5:\n",
            "найдено в строках: [5], всего: 1\n"
          ]
        }
      ],
      "source": [
        "filename = 'output.txt'\n",
        "file_content = \"1\\nsddf2\\n3\\ndjjf4\\niii5\\n1\\nnn2\\n9\\njfjfj1\\nifif7\"\n",
        "with open(filename, 'w', encoding='utf-8') as f:\n",
        "    f.write(file_content)\n",
        "\n",
        "print(\"содержимое файла:\")\n",
        "print(file_content)\n",
        "\n",
        "words_to_find = ['1', '2', '3', '4', '5']\n",
        "for word in words_to_find:\n",
        "    print(f\"ищем слово {word}:\")\n",
        "    found_lines = []\n",
        "    total_count = 0\n",
        "    with open(filename, 'r', encoding='utf-8') as f:\n",
        "        for i, line in enumerate(f, 1):\n",
        "            if word.lower() in line.lower():\n",
        "                found_lines.append(i)\n",
        "                total_count += line.lower().count(word.lower())\n",
        "\n",
        "    if found_lines:\n",
        "        print(f\"найдено в строках: {found_lines}, всего: {total_count}\")\n",
        "    else:\n",
        "        print(\"слово не найдено\")"
      ]
    },
    {
      "cell_type": "markdown",
      "id": "8d69c77a",
      "metadata": {
        "id": "8d69c77a"
      },
      "source": [
        "---"
      ]
    },
    {
      "cell_type": "markdown",
      "id": "0079e067",
      "metadata": {
        "id": "0079e067"
      },
      "source": [
        "### **Пункт №6. Чтение файла с обработкой FileNotFoundError**"
      ]
    },
    {
      "cell_type": "markdown",
      "id": "c3d27312",
      "metadata": {
        "id": "c3d27312"
      },
      "source": [
        "Напишите программу, которая запрашивает у пользователя имя файла и пытается открыть его. Если файла не существует, перехватите FileNotFoundError и выведите сообщение «Файл не найден!».\n",
        "\n",
        "**ОБЯЗАТЕЛЬНО:**\n",
        "- Протестируйте с существующим файлом\n",
        "- Протестируйте с несуществующим файлом\n",
        "- Покажите содержимое существующего файла"
      ]
    },
    {
      "cell_type": "code",
      "execution_count": 16,
      "id": "0c262bd2",
      "metadata": {
        "id": "0c262bd2",
        "colab": {
          "base_uri": "https://localhost:8080/"
        },
        "outputId": "92aedf6c-8a3f-44b4-9825-c69ea52232ad"
      },
      "outputs": [
        {
          "output_type": "stream",
          "name": "stdout",
          "text": [
            "это существующий файл.\n",
            "файл не найден\n"
          ]
        }
      ],
      "source": [
        "existing_file = 'my_file.txt'\n",
        "with open(existing_file, 'w', encoding='utf-8') as f:\n",
        "    f.write(\"это существующий файл.\")\n",
        "\n",
        "files_to_test = [existing_file, 'file2.txt']\n",
        "\n",
        "for filename in files_to_test:\n",
        "    try:\n",
        "        with open(filename, 'r', encoding='utf-8') as f:\n",
        "            content = f.read()\n",
        "            print(content)\n",
        "    except FileNotFoundError:\n",
        "        print(\"файл не найден\")"
      ]
    },
    {
      "cell_type": "markdown",
      "id": "c3258b46",
      "metadata": {
        "id": "c3258b46"
      },
      "source": [
        "---"
      ]
    },
    {
      "cell_type": "markdown",
      "id": "02e0767b",
      "metadata": {
        "id": "02e0767b"
      },
      "source": [
        "### **Пункт №7. Подсчет статистики файла**"
      ]
    },
    {
      "cell_type": "markdown",
      "id": "1c33b711",
      "metadata": {
        "id": "1c33b711"
      },
      "source": [
        "Напишите функцию `file_statistics(filename)`, которая читает текстовый файл и возвращает словарь со статистикой:\n",
        "- Количество строк\n",
        "- Количество слов\n",
        "- Количество символов (с пробелами и без)\n",
        "\n",
        "**ОБЯЗАТЕЛЬНО:**\n",
        "- Создайте тестовый файл с минимум 5 строками текста\n",
        "- Выведите содержимое файла ДО обработки\n",
        "- Выведите полученную статистику\n",
        "- Обработайте случай несуществующего файла\n",
        "\n",
        "```python\n",
        "# Создание тестового файла\n",
        "test_content = \"\"\"Первая строка текста\n",
        "Вторая строка с большим количеством слов\n",
        "Третья строка\n",
        "Четвертая строка для теста\n",
        "Пятая и последняя строка\"\"\"\n",
        "\n",
        "# Сохраните в файл и продемонстрируйте работу\n",
        "```"
      ]
    },
    {
      "cell_type": "code",
      "execution_count": 17,
      "id": "43bfd6b8",
      "metadata": {
        "id": "43bfd6b8",
        "colab": {
          "base_uri": "https://localhost:8080/"
        },
        "outputId": "3bfb71d9-b2d2-43f6-ff55-5c337da6178b"
      },
      "outputs": [
        {
          "output_type": "stream",
          "name": "stdout",
          "text": [
            "файл до обработки (stats_test.txt):\n",
            "первая строка.\n",
            "вторая строка с большим количеством слов.\n",
            "третья строка.\n",
            "{'строк': 3, 'слов': 10, 'символов': 71}\n",
            "проверка несуществующего файла:\n",
            "{'ошибка': 'файл no_file.txt не найден'}\n"
          ]
        }
      ],
      "source": [
        "def file_stat(filename):\n",
        "    try:\n",
        "        with open(filename, 'r', encoding='utf-8') as f:\n",
        "            content = f.read()\n",
        "        lines = content.splitlines()\n",
        "        words = content.split()\n",
        "        return {\n",
        "            \"строк\": len(lines),\n",
        "            \"слов\": len(words),\n",
        "            \"символов\": len(content),\n",
        "        }\n",
        "    except FileNotFoundError:\n",
        "        return {\"ошибка\": f\"файл {filename} не найден\"}\n",
        "\n",
        "test_filename = \"stats_test.txt\"\n",
        "test_content = \"первая строка.\\nвторая строка с большим количеством слов.\\nтретья строка.\"\n",
        "with open(test_filename, 'w', encoding='utf-8') as f:\n",
        "    f.write(test_content)\n",
        "\n",
        "print(f\"файл до обработки ({test_filename}):\")\n",
        "print(test_content)\n",
        "print(file_stat(test_filename))\n",
        "print(\"проверка несуществующего файла:\")\n",
        "print(file_stat(\"no_file.txt\"))"
      ]
    },
    {
      "cell_type": "markdown",
      "id": "903281dd",
      "metadata": {
        "id": "903281dd"
      },
      "source": [
        "---"
      ]
    },
    {
      "cell_type": "markdown",
      "id": "ad8b4ae4",
      "metadata": {
        "id": "ad8b4ae4"
      },
      "source": [
        "### **Пункт №8. Поиск и замена в файле**"
      ]
    },
    {
      "cell_type": "markdown",
      "id": "e5230d0a",
      "metadata": {
        "id": "e5230d0a"
      },
      "source": [
        "Напишите функцию `replace_in_file(filename, old_text, new_text)`, которая заменяет все вхождения `old_text` на `new_text` в файле и сохраняет результат в новый файл с префиксом \"modified_\".\n",
        "\n",
        "**ОБЯЗАТЕЛЬНО:**\n",
        "- Создайте файл с текстом, содержащим минимум 3 вхождения заменяемого слова\n",
        "- Выведите содержимое файла ДО замены\n",
        "- Выполните замену\n",
        "- Выведите содержимое файла ПОСЛЕ замены\n",
        "- Покажите количество произведенных замен"
      ]
    },
    {
      "cell_type": "code",
      "execution_count": 21,
      "id": "64a05e35",
      "metadata": {
        "id": "64a05e35",
        "colab": {
          "base_uri": "https://localhost:8080/"
        },
        "outputId": "198974e8-0ce5-40ff-c4ae-bb2c9546e300"
      },
      "outputs": [
        {
          "output_type": "stream",
          "name": "stdout",
          "text": [
            "файл до замены:\n",
            "это тестовый файл. старый текст. снова старый текст. и еще раз старый текст.\n",
            "замена выполнена, замен: 3\n",
            "файл после замены:\n",
            "это тестовый файл. новый текст. снова новый текст. и еще раз новый текст.\n"
          ]
        }
      ],
      "source": [
        "def func(filename, old_text, new_text):\n",
        "    try:\n",
        "        with open(filename, 'r', encoding='utf-8') as f:\n",
        "            content = f.read()\n",
        "\n",
        "        replace_count = content.count(old_text)\n",
        "        new_content = content.replace(old_text, new_text)\n",
        "\n",
        "        new_filename = \"modified_\" + filename\n",
        "        with open(new_filename, 'w', encoding='utf-8') as f:\n",
        "            f.write(new_content)\n",
        "\n",
        "        print(f\"замена выполнена, замен: {replace_count}\")\n",
        "        return new_filename\n",
        "    except FileNotFoundError:\n",
        "        print(f\"ошибка: файл {filename} не найден\")\n",
        "        return None\n",
        "\n",
        "filename = 'replace_test.txt'\n",
        "content = \"это тестовый файл. старый текст. снова старый текст. и еще раз старый текст.\"\n",
        "with open(filename, 'w', encoding='utf-8') as f:\n",
        "    f.write(content)\n",
        "\n",
        "print(\"файл до замены:\")\n",
        "with open(filename, 'r', encoding='utf-8') as f:\n",
        "  print(f.read())\n",
        "\n",
        "modified_file = func(filename, 'старый текст', 'новый текст')\n",
        "\n",
        "if modified_file:\n",
        "    print(\"файл после замены:\")\n",
        "    with open(modified_file, 'r', encoding='utf-8') as f:\n",
        "      print(f.read())"
      ]
    },
    {
      "cell_type": "markdown",
      "id": "f77b0568",
      "metadata": {
        "id": "f77b0568"
      },
      "source": [
        "---"
      ]
    },
    {
      "cell_type": "markdown",
      "id": "79a081b1",
      "metadata": {
        "id": "79a081b1"
      },
      "source": [
        "### **Пункт №9. Объединение файлов**"
      ]
    },
    {
      "cell_type": "markdown",
      "id": "599cee3c",
      "metadata": {
        "id": "599cee3c"
      },
      "source": [
        "Создайте функцию `merge_files(file_list, output_file)`, которая объединяет содержимое нескольких текстовых файлов в один, добавляя после каждого разделитель.\n",
        "\n",
        "**ОБЯЗАТЕЛЬНО:**\n",
        "- Создайте минимум 3 файла с разным содержимым\n",
        "- Выведите содержимое КАЖДОГО исходного файла\n",
        "- Выполните объединение\n",
        "- Выведите содержимое результирующего файла"
      ]
    },
    {
      "cell_type": "code",
      "execution_count": 22,
      "id": "581b5868",
      "metadata": {
        "id": "581b5868",
        "colab": {
          "base_uri": "https://localhost:8080/"
        },
        "outputId": "08b72158-361e-4a63-8b96-b25560d20a9f"
      },
      "outputs": [
        {
          "output_type": "stream",
          "name": "stdout",
          "text": [
            "исходные файлы:\n",
            "file1.txt: содержимое первого файла.\n",
            "file2.txt: текст из второго файла.\n",
            "file3.txt: третий файл.\n",
            "объединение:\n",
            "файл file1.txt добавлен\n",
            "файл file2.txt добавлен\n",
            "файл file3.txt добавлен\n",
            "готово, результат в merged_file.txt\n",
            "результат:\n",
            "содержимое первого файла.\n",
            "текст из второго файла.\n",
            "третий файл.\n",
            "\n"
          ]
        }
      ],
      "source": [
        "def func(file_list, output_file):\n",
        "    with open(output_file, 'w', encoding='utf-8') as f_out:\n",
        "        for filename in file_list:\n",
        "            try:\n",
        "                with open(filename, 'r', encoding='utf-8') as f_in:\n",
        "                    f_out.write(f_in.read())\n",
        "                    f_out.write('\\n')\n",
        "                print(f\"файл {filename} добавлен\")\n",
        "            except FileNotFoundError:\n",
        "                print(f\"файл {filename} не найден, пропущен\")\n",
        "    print(f\"готово, результат в {output_file}\")\n",
        "\n",
        "with open('file1.txt', 'w', encoding='utf-8') as f: f.write(\"содержимое первого файла.\")\n",
        "with open('file2.txt', 'w', encoding='utf-8') as f: f.write(\"текст из второго файла.\")\n",
        "with open('file3.txt', 'w', encoding='utf-8') as f: f.write(\"третий файл.\")\n",
        "\n",
        "files_to_merge = ['file1.txt', 'file2.txt', 'file3.txt']\n",
        "output_filename = 'merged_file.txt'\n",
        "\n",
        "print(\"исходные файлы:\")\n",
        "for filename in files_to_merge:\n",
        "    with open(filename, 'r', encoding='utf-8') as f:\n",
        "        print(f\"{filename}: {f.read()}\")\n",
        "\n",
        "print(\"объединение:\")\n",
        "func(files_to_merge, output_filename)\n",
        "\n",
        "print(\"результат:\")\n",
        "with open(output_filename, 'r', encoding='utf-8') as f:\n",
        "    print(f.read())"
      ]
    },
    {
      "cell_type": "markdown",
      "id": "eb866091",
      "metadata": {
        "id": "eb866091"
      },
      "source": [
        "---"
      ]
    }
  ],
  "metadata": {
    "colab": {
      "provenance": [],
      "include_colab_link": true
    },
    "language_info": {
      "name": "python"
    },
    "kernelspec": {
      "name": "python3",
      "display_name": "Python 3"
    }
  },
  "nbformat": 4,
  "nbformat_minor": 5
}