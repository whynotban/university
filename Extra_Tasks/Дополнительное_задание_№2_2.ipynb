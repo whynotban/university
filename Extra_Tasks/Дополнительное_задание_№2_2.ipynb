{
  "nbformat": 4,
  "nbformat_minor": 0,
  "metadata": {
    "colab": {
      "provenance": [],
      "include_colab_link": true
    },
    "kernelspec": {
      "name": "python3",
      "display_name": "Python 3"
    },
    "language_info": {
      "name": "python"
    }
  },
  "cells": [
    {
      "cell_type": "markdown",
      "metadata": {
        "id": "view-in-github",
        "colab_type": "text"
      },
      "source": [
        "<a href=\"https://colab.research.google.com/github/whynotban/university/blob/main/Extra_Tasks/%D0%94%D0%BE%D0%BF%D0%BE%D0%BB%D0%BD%D0%B8%D1%82%D0%B5%D0%BB%D1%8C%D0%BD%D0%BE%D0%B5_%D0%B7%D0%B0%D0%B4%D0%B0%D0%BD%D0%B8%D0%B5_%E2%84%962_2.ipynb\" target=\"_parent\"><img src=\"https://colab.research.google.com/assets/colab-badge.svg\" alt=\"Open In Colab\"/></a>"
      ]
    },
    {
      "cell_type": "markdown",
      "source": [
        "# **Дополнительное задание №2.2. Замыкания. Декораторы. Итераторы. Генераторы**"
      ],
      "metadata": {
        "id": "AFKOdzjAKWYc"
      }
    },
    {
      "cell_type": "markdown",
      "source": [
        "**БАЗА:**\n",
        "\n",
        "- **Замыкания** позволяют создавать функции с сохраняющимся состоянием. Это полезно для создания фабричных функций и функций с настраиваемым поведением.\n",
        "- **Декораторы** позволяют модифицировать или расширять поведение функций без изменения их исходного кода."
      ],
      "metadata": {
        "id": "nBwTqfsSyaGg"
      }
    },
    {
      "cell_type": "markdown",
      "source": [
        "---"
      ],
      "metadata": {
        "id": "2VnR8e3twGfD"
      }
    },
    {
      "cell_type": "markdown",
      "source": [
        "## **I. Замыкания и декораторы**"
      ],
      "metadata": {
        "id": "_ZPLUks08b1-"
      }
    },
    {
      "cell_type": "markdown",
      "metadata": {
        "id": "eVsLMeozyshu"
      },
      "source": [
        "### **Пункт №1**\n",
        "\n",
        "Напишите две функции создания списка из чётных чисел от 0 до N (N – аргумент функции): \\([0, 2, 4, ..., N]\\).\n",
        "\n",
        "- **Первая функция** должна использовать метод `append` для добавления элементов в список.\n",
        "- **Вторая функция** должна использовать **генератор списков** (list comprehensions) для создания списка.\n",
        "\n",
        "После этого, через **декоратор**, определите время работы этих функций."
      ]
    },
    {
      "cell_type": "code",
      "source": [
        "import time\n",
        "\n",
        "def timer_decorator(func):\n",
        "    def wrapper(N):\n",
        "        start_time = time.time()\n",
        "        result = func(N)\n",
        "        end_time = time.time()\n",
        "        print(f\"Функция {func.__name__} выполнилась за {(end_time - start_time):.6f} секунд\")\n",
        "        return result\n",
        "    return wrapper\n",
        "\n",
        "@timer_decorator\n",
        "def func1(N):\n",
        "    new_list = []\n",
        "    for i in range(N + 1):\n",
        "        if i % 2 == 0:\n",
        "            new_list.append(i)\n",
        "    return new_list\n",
        "\n",
        "@timer_decorator\n",
        "def func2(N):\n",
        "    new_list = [i for i in range(N + 1) if i % 2 == 0]\n",
        "    return new_list\n",
        "\n",
        "N = 1000000\n",
        "a = func1(N)\n",
        "b = func2(N)"
      ],
      "metadata": {
        "id": "04AwDHUyZe6F",
        "colab": {
          "base_uri": "https://localhost:8080/"
        },
        "outputId": "a5311a9b-e848-4c7b-b046-eaa41ea56eb8"
      },
      "execution_count": 22,
      "outputs": [
        {
          "output_type": "stream",
          "name": "stdout",
          "text": [
            "Функция func1 выполнилась за 0.069554 секунд\n",
            "Функция func2 выполнилась за 0.064034 секунд\n"
          ]
        }
      ]
    },
    {
      "cell_type": "markdown",
      "source": [
        "---"
      ],
      "metadata": {
        "id": "_0Jy4QhEwGDd"
      }
    },
    {
      "cell_type": "markdown",
      "source": [
        "### **Пункт №2**\n",
        "\n",
        "Напишите **декоратор** для кэширования результатов работы функции, вычисляющей значение n-го числа [**ряда Фибоначчи**](https://ru.wikipedia.org/wiki/Числа_Фибоначчи).\n",
        "\n",
        "То есть, при повторном вызове функции через декоратор уже имеющийся результат должен браться из кэша, а не вычисляться заново.\n",
        "\n",
        "**Например:**\n",
        "\n",
        "- При значении параметра `n = 5`, должна кэшироваться последовательность \\([0, 1, 1, 2, 3, 5]\\).\n",
        "- Вызывая после этого целевую функцию через декоратор ещё раз с `n = 3`, результат \\([0, 1, 1, 2]\\) должен браться из кэша.\n",
        "- Если последующее значение `n` больше предыдущего, например `n = 10`, вычисление должно продолжаться, начиная с закэшированной последовательности.\n",
        "\n",
        "*Подсказка: используйте **замыкание** для хранения кэша внутри декоратора.*\n"
      ],
      "metadata": {
        "id": "DfDtOSmDl7ic"
      }
    },
    {
      "cell_type": "code",
      "source": [
        "def cache_decorator(func):\n",
        "    cache = {}\n",
        "    def wrapper(n):\n",
        "        if n in cache:\n",
        "            return cache[n]\n",
        "        else:\n",
        "            result = func(n)\n",
        "            cache[n] = result\n",
        "            return result\n",
        "    return wrapper\n",
        "\n",
        "@cache_decorator\n",
        "def f(n):\n",
        "    if n < 2:\n",
        "        return n\n",
        "    return f(n - 1) + f(n - 2)\n",
        "\n",
        "print(f(10))\n",
        "print(f(15))\n",
        "print(f(5))"
      ],
      "metadata": {
        "id": "CtbbsIBsZfHB",
        "colab": {
          "base_uri": "https://localhost:8080/"
        },
        "outputId": "6bf3c1f6-7f86-4972-adf2-d13278440c38"
      },
      "execution_count": 3,
      "outputs": [
        {
          "output_type": "stream",
          "name": "stdout",
          "text": [
            "55\n",
            "610\n",
            "5\n"
          ]
        }
      ]
    },
    {
      "cell_type": "markdown",
      "source": [
        "---"
      ],
      "metadata": {
        "id": "CIiq8lr7wFkS"
      }
    },
    {
      "cell_type": "markdown",
      "source": [
        "### **Пункт №3**\n",
        "\n",
        "Примените к функции из задания №2 сразу **два декоратора**:\n",
        "\n",
        "1. **Декоратор**, определяющий время выполнения функции.\n",
        "2. **Кэширующий декоратор** (из задания №2).\n",
        "\n",
        "Сравните время работы функции с использованием кэширования и без него.\n"
      ],
      "metadata": {
        "id": "zY5zVHuifDve"
      }
    },
    {
      "cell_type": "code",
      "source": [
        "import time\n",
        "\n",
        "def timer_decorator(func):\n",
        "    def wrapper(N):\n",
        "        start_time = time.time()\n",
        "        result = func(N)\n",
        "        end_time = time.time()\n",
        "        print(f\"Функция {func.__name__} выполнилась за {(end_time - start_time):.6f} секунд\")\n",
        "        return result\n",
        "    return wrapper\n",
        "\n",
        "def cache_decorator(func):\n",
        "    cache = {}\n",
        "    def wrapper(n):\n",
        "        if n in cache:\n",
        "            return cache[n]\n",
        "        else:\n",
        "            result = func(n)\n",
        "            cache[n] = result\n",
        "            return result\n",
        "    return wrapper\n",
        "\n",
        "def f(n):\n",
        "    if n < 2:\n",
        "        return n\n",
        "    return f(n - 1) + f(n - 2)\n",
        "\n",
        "@timer_decorator\n",
        "@cache_decorator\n",
        "def f_with_cache(n):\n",
        "    if n < 2:\n",
        "        return n\n",
        "    return f_with_cache(n - 1) + f_with_cache(n - 2)\n",
        "\n",
        "a = timer_decorator(f)(35)\n",
        "b = f_with_cache(35)\n",
        "c = f_with_cache(35)"
      ],
      "metadata": {
        "id": "dXuu8LJgg-0r",
        "colab": {
          "base_uri": "https://localhost:8080/"
        },
        "outputId": "029c51f7-c367-4f89-a092-5660e954d3a3"
      },
      "execution_count": 23,
      "outputs": [
        {
          "output_type": "stream",
          "name": "stdout",
          "text": [
            "Функция f выполнилась за 3.073965 секунд\n",
            "Функция wrapper выполнилась за 0.000001 секунд\n",
            "Функция wrapper выполнилась за 0.000001 секунд\n",
            "Функция wrapper выполнилась за 0.000088 секунд\n",
            "Функция wrapper выполнилась за 0.000001 секунд\n",
            "Функция wrapper выполнилась за 0.000141 секунд\n",
            "Функция wrapper выполнилась за 0.000000 секунд\n",
            "Функция wrapper выполнилась за 0.000153 секунд\n",
            "Функция wrapper выполнилась за 0.000000 секунд\n",
            "Функция wrapper выполнилась за 0.000162 секунд\n",
            "Функция wrapper выполнилась за 0.000000 секунд\n",
            "Функция wrapper выполнилась за 0.000169 секунд\n",
            "Функция wrapper выполнилась за 0.000000 секунд\n",
            "Функция wrapper выполнилась за 0.000178 секунд\n",
            "Функция wrapper выполнилась за 0.000000 секунд\n",
            "Функция wrapper выполнилась за 0.000186 секунд\n",
            "Функция wrapper выполнилась за 0.000000 секунд\n",
            "Функция wrapper выполнилась за 0.000194 секунд\n",
            "Функция wrapper выполнилась за 0.000000 секунд\n",
            "Функция wrapper выполнилась за 0.000203 секунд\n",
            "Функция wrapper выполнилась за 0.000000 секунд\n",
            "Функция wrapper выполнилась за 0.000211 секунд\n",
            "Функция wrapper выполнилась за 0.000000 секунд\n",
            "Функция wrapper выполнилась за 0.000218 секунд\n",
            "Функция wrapper выполнилась за 0.000000 секунд\n",
            "Функция wrapper выполнилась за 0.000226 секунд\n",
            "Функция wrapper выполнилась за 0.000000 секунд\n",
            "Функция wrapper выполнилась за 0.000233 секунд\n",
            "Функция wrapper выполнилась за 0.000000 секунд\n",
            "Функция wrapper выполнилась за 0.000240 секунд\n",
            "Функция wrapper выполнилась за 0.000000 секунд\n",
            "Функция wrapper выполнилась за 0.000247 секунд\n",
            "Функция wrapper выполнилась за 0.000000 секунд\n",
            "Функция wrapper выполнилась за 0.000254 секунд\n",
            "Функция wrapper выполнилась за 0.000000 секунд\n",
            "Функция wrapper выполнилась за 0.000261 секунд\n",
            "Функция wrapper выполнилась за 0.000000 секунд\n",
            "Функция wrapper выполнилась за 0.000268 секунд\n",
            "Функция wrapper выполнилась за 0.000000 секунд\n",
            "Функция wrapper выполнилась за 0.000276 секунд\n",
            "Функция wrapper выполнилась за 0.000000 секунд\n",
            "Функция wrapper выполнилась за 0.000283 секунд\n",
            "Функция wrapper выполнилась за 0.000000 секунд\n",
            "Функция wrapper выполнилась за 0.000291 секунд\n",
            "Функция wrapper выполнилась за 0.000000 секунд\n",
            "Функция wrapper выполнилась за 0.000298 секунд\n",
            "Функция wrapper выполнилась за 0.000000 секунд\n",
            "Функция wrapper выполнилась за 0.000304 секунд\n",
            "Функция wrapper выполнилась за 0.000000 секунд\n",
            "Функция wrapper выполнилась за 0.000311 секунд\n",
            "Функция wrapper выполнилась за 0.000000 секунд\n",
            "Функция wrapper выполнилась за 0.000318 секунд\n",
            "Функция wrapper выполнилась за 0.000000 секунд\n",
            "Функция wrapper выполнилась за 0.000325 секунд\n",
            "Функция wrapper выполнилась за 0.000000 секунд\n",
            "Функция wrapper выполнилась за 0.000332 секунд\n",
            "Функция wrapper выполнилась за 0.000000 секунд\n",
            "Функция wrapper выполнилась за 0.000339 секунд\n",
            "Функция wrapper выполнилась за 0.000000 секунд\n",
            "Функция wrapper выполнилась за 0.000346 секунд\n",
            "Функция wrapper выполнилась за 0.000000 секунд\n",
            "Функция wrapper выполнилась за 0.000353 секунд\n",
            "Функция wrapper выполнилась за 0.000000 секунд\n",
            "Функция wrapper выполнилась за 0.000360 секунд\n",
            "Функция wrapper выполнилась за 0.000000 секунд\n",
            "Функция wrapper выполнилась за 0.000367 секунд\n",
            "Функция wrapper выполнилась за 0.000000 секунд\n",
            "Функция wrapper выполнилась за 0.000375 секунд\n",
            "Функция wrapper выполнилась за 0.000000 секунд\n",
            "Функция wrapper выполнилась за 0.000384 секунд\n",
            "Функция wrapper выполнилась за 0.000003 секунд\n"
          ]
        }
      ]
    },
    {
      "cell_type": "markdown",
      "source": [
        "---"
      ],
      "metadata": {
        "id": "fsSegPodwEwZ"
      }
    },
    {
      "cell_type": "markdown",
      "source": [
        "### **Пункт №4**\n",
        "\n",
        "Создайте функцию **make_multiplier(n)**, которая принимает число **n** и возвращает функцию, умножающую переданное ей число на **n**.\n",
        "\n",
        "**Пример использования:**\n",
        "\n",
        "```python\n",
        "def make_multiplier(n):\n",
        "    # Ваш код\n",
        "\n",
        "times3 = make_multiplier(3)\n",
        "print(times3(5))  # Вывод: 15\n",
        "```"
      ],
      "metadata": {
        "id": "Ap04UA6ZtoK1"
      }
    },
    {
      "cell_type": "code",
      "source": [
        "def make_multiplier(n):\n",
        "    def multiplier(x):\n",
        "        return x * n\n",
        "    return multiplier\n",
        "\n",
        "times3 = make_multiplier(3)\n",
        "print(times3(5))"
      ],
      "metadata": {
        "id": "HasdSjestowl",
        "colab": {
          "base_uri": "https://localhost:8080/"
        },
        "outputId": "6f7a963e-0099-4eee-ec4e-3b4373fb8f82"
      },
      "execution_count": 7,
      "outputs": [
        {
          "output_type": "stream",
          "name": "stdout",
          "text": [
            "15\n"
          ]
        }
      ]
    },
    {
      "cell_type": "markdown",
      "source": [
        "---"
      ],
      "metadata": {
        "id": "MIPkER_LwD_0"
      }
    },
    {
      "cell_type": "markdown",
      "source": [
        "### **Пункт №5**\n",
        "\n",
        "Реализуйте функцию с замыканием, которая настраивает округление чисел до заданного количества знаков после запятой.\n",
        "\n",
        "**Пример:**\n",
        "\n",
        "```python\n",
        "def rounder(n):\n",
        "    # Ваш код\n",
        "\n",
        "round_to_2 = rounder(2)\n",
        "print(round_to_2(3.14159))  # Вывод: 3.14\n",
        "```\n"
      ],
      "metadata": {
        "id": "mTwh5dIqto8N"
      }
    },
    {
      "cell_type": "code",
      "source": [
        "def rounder(n):\n",
        "    def f(number):\n",
        "        return round(number, n)\n",
        "    return f\n",
        "\n",
        "round_to_2 = rounder(2)\n",
        "print(round_to_2(3.14159))"
      ],
      "metadata": {
        "id": "zjlE-viztpDo",
        "colab": {
          "base_uri": "https://localhost:8080/"
        },
        "outputId": "4a308b8f-116d-4218-be5e-39ac01fafe12"
      },
      "execution_count": 9,
      "outputs": [
        {
          "output_type": "stream",
          "name": "stdout",
          "text": [
            "3.14\n"
          ]
        }
      ]
    },
    {
      "cell_type": "markdown",
      "source": [
        "---"
      ],
      "metadata": {
        "id": "6u2MeXBiwAyf"
      }
    },
    {
      "cell_type": "markdown",
      "source": [
        "### **Пункт №6**\n",
        "\n",
        "Напишите **декоратор**, который измеряет время исполнения функции и выводит его на экран, только если время превышает определённый порог.\n",
        "\n",
        "**Пример:**\n",
        "\n",
        "```python\n",
        "@time_threshold(threshold=0.5)\n",
        "def long_running_function():\n",
        "    # Долгий код\n",
        "\n",
        "long_running_function()\n",
        "# Выводится время выполнения только если оно больше 0.5 секунд\n",
        "```"
      ],
      "metadata": {
        "id": "i5A4zQl5tpKJ"
      }
    },
    {
      "cell_type": "code",
      "source": [
        "import time\n",
        "\n",
        "def time_threshold(threshold):\n",
        "    def decorator(func):\n",
        "        def wrapper(*args, **kwargs):\n",
        "            start_time = time.time()\n",
        "            result = func(*args, **kwargs)\n",
        "            end_time = time.time()\n",
        "            duration = end_time - start_time\n",
        "            if duration > threshold:\n",
        "                print(f\"Время выполнения {duration:.6f} сек. превысило порог {threshold} сек.\")\n",
        "            return result\n",
        "        return wrapper\n",
        "    return decorator\n",
        "\n",
        "@time_threshold(threshold=0.5)\n",
        "def long_running_function():\n",
        "    print(\"начало\")\n",
        "    time.sleep(0.7)\n",
        "    print(\"конец\")\n",
        "\n",
        "@time_threshold(threshold=0.5)\n",
        "def short_running_function():\n",
        "    print(\"быстрая функция\")\n",
        "    time.sleep(0.2)\n",
        "\n",
        "long_running_function()\n",
        "short_running_function()"
      ],
      "metadata": {
        "id": "LMGleXaetpP6",
        "colab": {
          "base_uri": "https://localhost:8080/"
        },
        "outputId": "ff41ffc4-85f8-429f-9dee-6f6cf4aa6bfe"
      },
      "execution_count": 24,
      "outputs": [
        {
          "output_type": "stream",
          "name": "stdout",
          "text": [
            "начало\n",
            "конец\n",
            "Время выполнения 0.700320 сек. превысило порог 0.5 сек.\n",
            "быстрая функция\n"
          ]
        }
      ]
    },
    {
      "cell_type": "markdown",
      "source": [
        "---"
      ],
      "metadata": {
        "id": "Ag0rUJm-wIK1"
      }
    },
    {
      "cell_type": "markdown",
      "source": [
        "## **II. Итераторы и генераторы**"
      ],
      "metadata": {
        "id": "tu5ZanR_8j_R"
      }
    },
    {
      "cell_type": "markdown",
      "source": [
        "---\n",
        "\n",
        "### **Пункт №1. Генератор строк фиксированной длины**\n",
        "\n",
        "Напишите генератор `string_generator(char, times)`, который генерирует строки, состоящие из символа `char`, повторенного от 1 до `times` раз.\n",
        "\n",
        "```python\n",
        "# Пример использования:\n",
        "for s in string_generator('*', 5):\n",
        "    print(s)\n",
        "# Вывод:\n",
        "# *\n",
        "# **\n",
        "# ***\n",
        "# ****\n",
        "# *****\n",
        "```\n",
        "\n"
      ],
      "metadata": {
        "id": "7KQ8huR-8C_4"
      }
    },
    {
      "cell_type": "markdown",
      "source": [
        "---"
      ],
      "metadata": {
        "id": "ktfqCVPY-Mlx"
      }
    },
    {
      "cell_type": "code",
      "source": [
        "def string_generator(char, times):\n",
        "    for i in range(1, times + 1):\n",
        "        yield char * i\n",
        "\n",
        "for s in string_generator('*', 5):\n",
        "    print(s)"
      ],
      "metadata": {
        "id": "uvI-Ebqu98bW",
        "colab": {
          "base_uri": "https://localhost:8080/"
        },
        "outputId": "b948c323-da2f-4c7e-cbd8-a7a6de9ce319"
      },
      "execution_count": 11,
      "outputs": [
        {
          "output_type": "stream",
          "name": "stdout",
          "text": [
            "*\n",
            "**\n",
            "***\n",
            "****\n",
            "*****\n"
          ]
        }
      ]
    },
    {
      "cell_type": "markdown",
      "source": [
        "---\n",
        "\n",
        "### **Пункт №2. Генератор бесконечной последовательности**\n",
        "\n",
        "Создайте бесконечный генератор `infinite_sequence()`, который с каждым вызовом возвращает следующее число, начиная с 1.\n",
        "\n",
        "```python\n",
        "# Пример использования:\n",
        "gen = infinite_sequence()\n",
        "for _ in range(5):\n",
        "    print(next(gen))\n",
        "# Вывод:\n",
        "# 1\n",
        "# 2\n",
        "# 3\n",
        "# 4\n",
        "# 5\n",
        "```\n",
        "\n",
        "---"
      ],
      "metadata": {
        "id": "zDtiD8Rl9Oqu"
      }
    },
    {
      "cell_type": "code",
      "source": [
        "def infinite_sequence():\n",
        "    num = 1\n",
        "    while True:\n",
        "        yield num\n",
        "        num += 1\n",
        "\n",
        "gen = infinite_sequence()\n",
        "for _ in range(5):\n",
        "    print(next(gen))"
      ],
      "metadata": {
        "id": "Yotj0YMK-Avy",
        "colab": {
          "base_uri": "https://localhost:8080/"
        },
        "outputId": "1560d6cc-a934-4862-f46e-51e38d4af7cc"
      },
      "execution_count": 12,
      "outputs": [
        {
          "output_type": "stream",
          "name": "stdout",
          "text": [
            "1\n",
            "2\n",
            "3\n",
            "4\n",
            "5\n"
          ]
        }
      ]
    },
    {
      "cell_type": "markdown",
      "source": [
        "---\n",
        "\n",
        "### **Пункт №3. Генератор комбинированных списков**\n",
        "\n",
        "Создайте генератор `combined_lists(lst1, lst2)`, который попеременно возвращает элементы из `lst1` и `lst2`. Если длины списков неравны, генератор должен остановиться при исчерпании более короткого списка.\n",
        "\n",
        "```python\n",
        "# Пример использования:\n",
        "for item in combined_lists([1, 2, 3], ['a', 'b', 'c', 'd']):\n",
        "    print(item)\n",
        "# Вывод:\n",
        "# 1\n",
        "# 'a'\n",
        "# 2\n",
        "# 'b'\n",
        "# 3\n",
        "# 'c'\n",
        "```"
      ],
      "metadata": {
        "id": "rJQEC1n19KHE"
      }
    },
    {
      "cell_type": "markdown",
      "source": [
        "---"
      ],
      "metadata": {
        "id": "1h8fsmju-LQh"
      }
    },
    {
      "cell_type": "code",
      "source": [
        "def combined_lists(lst1, lst2):\n",
        "    for item1, item2 in zip(lst1, lst2):\n",
        "        yield item1\n",
        "        yield item2\n",
        "\n",
        "for item in combined_lists([1, 2, 3], ['a', 'b', 'c', 'd']):\n",
        "    print(item)"
      ],
      "metadata": {
        "id": "_kcrlmgU-Bmz",
        "colab": {
          "base_uri": "https://localhost:8080/"
        },
        "outputId": "fc40ec0c-cd46-4ade-f266-690f4fd96605"
      },
      "execution_count": 13,
      "outputs": [
        {
          "output_type": "stream",
          "name": "stdout",
          "text": [
            "1\n",
            "a\n",
            "2\n",
            "b\n",
            "3\n",
            "c\n"
          ]
        }
      ]
    },
    {
      "cell_type": "markdown",
      "source": [
        "---\n",
        "\n",
        "### **Пункт №4. Генератор перевернутой строки**\n",
        "\n",
        "Напишите генератор `reverse_string(s)`, который при каждом вызове возвращает следующий символ строки `s` в обратном порядке.\n",
        "\n",
        "```python\n",
        "# Пример использования:\n",
        "for char in reverse_string('hello'):\n",
        "    print(char)\n",
        "# Вывод:\n",
        "# o\n",
        "# l\n",
        "# l\n",
        "# e\n",
        "# h\n",
        "```"
      ],
      "metadata": {
        "id": "CEXaNzJX9B1D"
      }
    },
    {
      "cell_type": "markdown",
      "source": [
        "---"
      ],
      "metadata": {
        "id": "L9WQ5Jpq-JaO"
      }
    },
    {
      "cell_type": "code",
      "source": [
        "def reverse_string(s):\n",
        "    for char in reversed(s):\n",
        "        yield char\n",
        "\n",
        "for char in reverse_string('hello'):\n",
        "    print(char)"
      ],
      "metadata": {
        "id": "5w9xT0eR-CBf",
        "colab": {
          "base_uri": "https://localhost:8080/"
        },
        "outputId": "99eedbee-61a6-4339-bdb5-1a3906478461"
      },
      "execution_count": 14,
      "outputs": [
        {
          "output_type": "stream",
          "name": "stdout",
          "text": [
            "o\n",
            "l\n",
            "l\n",
            "e\n",
            "h\n"
          ]
        }
      ]
    },
    {
      "cell_type": "markdown",
      "source": [
        "---\n",
        "\n",
        "### **Пункт №5. Генератор степеней двойки**\n",
        "\n",
        "Создайте генератор `powers_of_two(n)`, который возвращает степени двойки от 2^0 до 2^n.\n",
        "\n",
        "```python\n",
        "# Пример использования:\n",
        "for num in powers_of_two(5):\n",
        "    print(num)\n",
        "# Вывод:\n",
        "# 1  # 2^0\n",
        "# 2  # 2^1\n",
        "# 4  # 2^2\n",
        "# 8  # 2^3\n",
        "# 16 # 2^4\n",
        "# 32 # 2^5\n",
        "```\n",
        "\n",
        "---"
      ],
      "metadata": {
        "id": "GNykcs8D8-Je"
      }
    },
    {
      "cell_type": "code",
      "source": [
        "def powers_of_two(n):\n",
        "    for i in range(n + 1):\n",
        "        yield 2 ** i\n",
        "\n",
        "for num in powers_of_two(5):\n",
        "    print(num)"
      ],
      "metadata": {
        "id": "LjNW3m-y-CXj",
        "colab": {
          "base_uri": "https://localhost:8080/"
        },
        "outputId": "e92a9686-727e-4a5a-dce0-398ff7eeba24"
      },
      "execution_count": 15,
      "outputs": [
        {
          "output_type": "stream",
          "name": "stdout",
          "text": [
            "1\n",
            "2\n",
            "4\n",
            "8\n",
            "16\n",
            "32\n"
          ]
        }
      ]
    },
    {
      "cell_type": "markdown",
      "source": [
        "---"
      ],
      "metadata": {
        "id": "OU71icWn-Ggg"
      }
    },
    {
      "cell_type": "markdown",
      "source": [
        "### **Пункт №6. Генератор чисел из строки**\n",
        "\n",
        "Напишите генератор `number_extractor(s)`, который извлекает числа из заданной строки `s` и возвращает их как целые числа.\n",
        "\n",
        "```python\n",
        "# Пример использования:\n",
        "for num in number_extractor('abc123def45gh6'):\n",
        "    print(num)\n",
        "# Вывод:\n",
        "# 123\n",
        "# 45\n",
        "# 6\n",
        "```"
      ],
      "metadata": {
        "id": "w5gcNZCM829V"
      }
    },
    {
      "cell_type": "markdown",
      "source": [
        "---"
      ],
      "metadata": {
        "id": "oJt2kxt8-FUP"
      }
    },
    {
      "cell_type": "code",
      "source": [
        "def number_extractor(s):\n",
        "    current_num = ''\n",
        "    for char in s:\n",
        "        if char.isdigit():\n",
        "            current_num += char\n",
        "        elif current_num:\n",
        "            yield int(current_num)\n",
        "            current_num = ''\n",
        "    if current_num:\n",
        "        yield int(current_num)\n",
        "\n",
        "for num in number_extractor('abc123def45gh6'):\n",
        "    print(num)"
      ],
      "metadata": {
        "id": "zDYVvuBX-C9M",
        "colab": {
          "base_uri": "https://localhost:8080/"
        },
        "outputId": "2558aaab-f6db-42ec-c6af-106bd314c9fb"
      },
      "execution_count": 16,
      "outputs": [
        {
          "output_type": "stream",
          "name": "stdout",
          "text": [
            "123\n",
            "45\n",
            "6\n"
          ]
        }
      ]
    },
    {
      "cell_type": "markdown",
      "source": [
        "---"
      ],
      "metadata": {
        "id": "h6ztzyUn-D5n"
      }
    }
  ]
}